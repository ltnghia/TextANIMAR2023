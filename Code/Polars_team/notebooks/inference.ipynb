{
 "cells": [
  {
   "cell_type": "code",
   "execution_count": 2,
   "metadata": {
    "collapsed": true
   },
   "outputs": [],
   "source": [
    "WORKDIR = \"\"\n",
    "WANDB_KEY = \"\""
   ]
  },
  {
   "cell_type": "code",
   "execution_count": null,
   "metadata": {},
   "outputs": [],
   "source": [
    "!wandb login --relogin $WANDB_KEY"
   ]
  },
  {
   "cell_type": "code",
   "execution_count": 3,
   "metadata": {
    "collapsed": false
   },
   "outputs": [
    {
     "name": "stdout",
     "output_type": "stream",
     "text": [
      "/home/totuanan/Workplace/SHREC2023/SHREC2023\n",
      "Processing /home/totuanan/Workplace/SHREC2023/SHREC2023\n",
      "  Preparing metadata (setup.py) ... \u001b[?25ldone\n",
      "\u001b[?25hBuilding wheels for collected packages: shrec2023\n",
      "  Building wheel for shrec2023 (setup.py) ... \u001b[?25ldone\n",
      "\u001b[?25h  Created wheel for shrec2023: filename=shrec2023-0.0.1-py3-none-any.whl size=33397 sha256=41163f6571c71a1a11ef46541293985155426222c5910c5a614a47b4a5c9db1e\n",
      "  Stored in directory: /tmp/pip-ephem-wheel-cache-aasiswbi/wheels/f5/1f/57/47ee352a6c80510cf3ee381584bdb9085248a82c4f0a7b0649\n",
      "Successfully built shrec2023\n",
      "Installing collected packages: shrec2023\n",
      "  Attempting uninstall: shrec2023\n",
      "    Found existing installation: shrec2023 0.0.1\n",
      "    Uninstalling shrec2023-0.0.1:\n",
      "      Successfully uninstalled shrec2023-0.0.1\n",
      "Successfully installed shrec2023-0.0.1\n"
     ]
    }
   ],
   "source": [
    "%cd $WORKDIR\n",
    "!pip install ."
   ]
  },
  {
   "cell_type": "markdown",
   "metadata": {},
   "source": [
    "# Inference\n",
    "Specify your config file and use `src/inference_faiss.py` to run the code. \n",
    "\n",
    "**Note**: Enter the model you want in `model.pretrained_ckpt` attribute of config file."
   ]
  },
  {
   "cell_type": "code",
   "execution_count": 4,
   "metadata": {
    "collapsed": false
   },
   "outputs": [
    {
     "name": "stdout",
     "output_type": "stream",
     "text": [
      "/home/totuanan/Workplace/SHREC2023/SHREC2023\n",
      "Overriding configurating\n",
      "Global seed set to 1337\n",
      "Some weights of the model checkpoint at bert-large-uncased were not used when initializing BertModel: ['cls.seq_relationship.weight', 'cls.predictions.transform.dense.weight', 'cls.seq_relationship.bias', 'cls.predictions.bias', 'cls.predictions.transform.dense.bias', 'cls.predictions.transform.LayerNorm.bias', 'cls.predictions.transform.LayerNorm.weight', 'cls.predictions.decoder.weight']\n",
      "- This IS expected if you are initializing BertModel from the checkpoint of a model trained on another task or with another architecture (e.g. initializing a BertForSequenceClassification model from a BertForPreTraining model).\n",
      "- This IS NOT expected if you are initializing BertModel from the checkpoint of a model that you expect to be exactly identical (initializing a BertForSequenceClassification model from a BertForSequenceClassification model).\n",
      "Some weights of the model checkpoint at bert-large-uncased were not used when initializing BertModel: ['cls.seq_relationship.weight', 'cls.predictions.transform.dense.weight', 'cls.seq_relationship.bias', 'cls.predictions.bias', 'cls.predictions.transform.dense.bias', 'cls.predictions.transform.LayerNorm.bias', 'cls.predictions.transform.LayerNorm.weight', 'cls.predictions.decoder.weight']\n",
      "- This IS expected if you are initializing BertModel from the checkpoint of a model trained on another task or with another architecture (e.g. initializing a BertForSequenceClassification model from a BertForPreTraining model).\n",
      "- This IS NOT expected if you are initializing BertModel from the checkpoint of a model that you expect to be exactly identical (initializing a BertForSequenceClassification model from a BertForSequenceClassification model).\n",
      "- Evaluation started...\n",
      "- Extracting embeddings of queries...\n",
      "100%|█████████████████████████████████████████████| 4/4 [00:00<00:00,  4.99it/s]\n",
      "- Extracting embeddings of point_clouds...\n",
      "100%|███████████████████████████████████████████| 45/45 [00:15<00:00,  2.84it/s]\n",
      "- Calculating similarity...\n",
      "Save query results to  temps/query_results_2023-03-16_04-36-27.json\n",
      "- Done calculate similarity...\n",
      "Saving result as csv file...\n",
      "Saved!\n"
     ]
    }
   ],
   "source": [
    "%cd $WORKDIR\n",
    "!python src/inference_faiss.py -c configs/inference.yml"
   ]
  }
 ],
 "metadata": {
  "kernelspec": {
   "display_name": "Python 3",
   "language": "python",
   "name": "python3"
  },
  "language_info": {
   "codemirror_mode": {
    "name": "ipython",
    "version": 3
   },
   "file_extension": ".py",
   "mimetype": "text/x-python",
   "name": "python",
   "nbconvert_exporter": "python",
   "pygments_lexer": "ipython3",
   "version": "3.9.16"
  }
 },
 "nbformat": 4,
 "nbformat_minor": 0
}
